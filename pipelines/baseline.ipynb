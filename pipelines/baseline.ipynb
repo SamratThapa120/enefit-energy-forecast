{
 "cells": [
  {
   "cell_type": "code",
   "execution_count": 1,
   "id": "22524d42",
   "metadata": {
    "_cell_guid": "b1076dfc-b9ad-4769-8c92-a6c4dae69d19",
    "_kg_hide-input": true,
    "_uuid": "8f2839f25d086af736a60e9eeb907d3b93b6e0e5",
    "execution": {
     "iopub.execute_input": "2023-11-26T13:00:24.551710Z",
     "iopub.status.busy": "2023-11-26T13:00:24.551224Z",
     "iopub.status.idle": "2023-11-26T13:00:30.410743Z",
     "shell.execute_reply": "2023-11-26T13:00:30.409705Z"
    },
    "papermill": {
     "duration": 5.873903,
     "end_time": "2023-11-26T13:00:30.413578",
     "exception": false,
     "start_time": "2023-11-26T13:00:24.539675",
     "status": "completed"
    },
    "tags": []
   },
   "outputs": [
    {
     "name": "stderr",
     "output_type": "stream",
     "text": [
      "/usr/local/lib/python3.8/dist-packages/tqdm/auto.py:21: TqdmWarning: IProgress not found. Please update jupyter and ipywidgets. See https://ipywidgets.readthedocs.io/en/stable/user_install.html\n",
      "  from .autonotebook import tqdm as notebook_tqdm\n"
     ]
    }
   ],
   "source": [
    "import os\n",
    "import gc\n",
    "import pickle\n",
    "\n",
    "import numpy as np\n",
    "import pandas as pd\n",
    "import polars as pl\n",
    "import matplotlib.pyplot as plt\n",
    "import plotly.express as px\n",
    "from sklearn.model_selection import cross_val_score, cross_validate\n",
    "from sklearn.metrics import mean_absolute_error\n",
    "from sklearn.compose import TransformedTargetRegressor\n",
    "from sklearn.ensemble import VotingRegressor\n",
    "import numpy as np\n",
    "import datetime\n",
    "import lightgbm as lgb\n",
    "\n",
    "import optuna\n",
    "from feature_engineer import *"
   ]
  },
  {
   "cell_type": "code",
   "execution_count": 2,
   "id": "5891c957",
   "metadata": {
    "_kg_hide-input": false,
    "execution": {
     "iopub.execute_input": "2023-11-26T13:00:43.718878Z",
     "iopub.status.busy": "2023-11-26T13:00:43.717975Z",
     "iopub.status.idle": "2023-11-26T13:00:43.727727Z",
     "shell.execute_reply": "2023-11-26T13:00:43.726520Z"
    },
    "papermill": {
     "duration": 0.042361,
     "end_time": "2023-11-26T13:00:43.730393",
     "exception": false,
     "start_time": "2023-11-26T13:00:43.688032",
     "status": "completed"
    },
    "tags": []
   },
   "outputs": [],
   "source": [
    "root = \"../../dataset\"\n",
    "save_path = None\n",
    "load_path = None"
   ]
  },
  {
   "cell_type": "code",
   "execution_count": 3,
   "id": "14ee9f7a",
   "metadata": {
    "_kg_hide-input": false,
    "execution": {
     "iopub.execute_input": "2023-11-26T13:00:43.788810Z",
     "iopub.status.busy": "2023-11-26T13:00:43.787989Z",
     "iopub.status.idle": "2023-11-26T13:00:57.711884Z",
     "shell.execute_reply": "2023-11-26T13:00:57.710567Z"
    },
    "papermill": {
     "duration": 13.956402,
     "end_time": "2023-11-26T13:00:57.714896",
     "exception": false,
     "start_time": "2023-11-26T13:00:43.758494",
     "status": "completed"
    },
    "tags": []
   },
   "outputs": [],
   "source": [
    "df_data        = pl.read_csv(os.path.join(root, \"train.csv\"), try_parse_dates=True)\n",
    "df_client      = pl.read_csv(os.path.join(root, \"client.csv\"), try_parse_dates=True)\n",
    "df_gas         = pl.read_csv(os.path.join(root, \"gas_prices.csv\"), try_parse_dates=True)\n",
    "df_electricity = pl.read_csv(os.path.join(root, \"electricity_prices.csv\"), try_parse_dates=True)\n",
    "df_forecast    = pl.read_csv(os.path.join(root, \"forecast_weather.csv\"), try_parse_dates=True)\n",
    "df_historical  = pl.read_csv(os.path.join(root, \"historical_weather.csv\"), try_parse_dates=True)\n",
    "df_location    = pl.read_csv(os.path.join(root, \"weather_station_to_county_mapping.csv\"), try_parse_dates=True)"
   ]
  },
  {
   "cell_type": "code",
   "execution_count": 4,
   "id": "e92a3b11",
   "metadata": {},
   "outputs": [],
   "source": [
    "name_to_location_map = {\n",
    "    0: [59.37564599072755, 24.76634160396904],\n",
    "    1: [58.933990104765385, 22.592611630193417],\n",
    "    2: [59.260027110999104, 27.424623084957503],\n",
    "    3: [58.93141428698745, 25.61492605120901],\n",
    "    4: [58.75129581441412, 26.396217935199086],\n",
    "    5: [59.351855094338006, 26.358582291361408],\n",
    "    6: [58.971844103963996, 23.865264807862204],\n",
    "    7: [58.529730512924466, 24.390625023202976],\n",
    "    8: [58.115278626639046, 27.210355429168683],\n",
    "    9: [59.001783512075306, 24.800546663034282],\n",
    "    10: [58.40187275691764, 22.473957776666857],\n",
    "    11: [58.38464096871995, 26.742185601931066],\n",
    "    13: [57.910997459035016, 26.161956297267043],\n",
    "    14: [58.362156921790586, 25.589748513576247],\n",
    "    15: [57.84391746680313, 27.00999868536037],\n",
    "}\n",
    "country_names = []\n",
    "separation = []\n",
    "for lat, long in zip(df_location[\"latitude\"],df_location[\"longitude\"]):\n",
    "    distances = {k:np.sqrt(((lat-v[0])**2)+((long-v[1])**2))*111 for k,v in name_to_location_map.items()}\n",
    "    key = min(distances,key=lambda x: distances[x])\n",
    "    if distances[key]<50:\n",
    "        country_names.append(key)\n",
    "        separation.append(distances[key])\n",
    "    else:\n",
    "        country_names.append(12)\n",
    "        separation.append(50)   \n",
    "df_location = df_location.with_columns(pl.Series(name=\"county\", values=country_names))"
   ]
  },
  {
   "attachments": {},
   "cell_type": "markdown",
   "id": "f1965be5",
   "metadata": {},
   "source": [
    "# Feature Engineering"
   ]
  },
  {
   "cell_type": "code",
   "execution_count": 5,
   "id": "6d34509b",
   "metadata": {},
   "outputs": [],
   "source": [
    "# immediate changes\n",
    "df_data = df_data.with_columns(pl.col(\"datetime\").dt.date().alias(\"date\").cast(pl.Date))\n",
    "df_forecast = df_forecast.with_columns(pl.col(\"forecast_datetime\").alias(\"forecast_datetime\").cast(pl.Datetime))\n",
    "df_forecast = df_forecast.with_columns(pl.col(\"latitude\").round(1).cast(str),pl.col(\"longitude\").round(1).cast(str))\n",
    "df_location = df_location.with_columns(pl.col(\"latitude\").round(1).cast(str),pl.col(\"longitude\").round(1).cast(str))"
   ]
  },
  {
   "cell_type": "code",
   "execution_count": 6,
   "id": "929cdb27",
   "metadata": {},
   "outputs": [],
   "source": [
    "df_data = df_data.filter(pl.col(\"target\")!=None)\n",
    "df_data = add_electricity_prices(df_data,df_electricity)\n",
    "df_data = add_gas_price(df_data,df_gas)\n",
    "df_data =  add_client(df_data,df_client)\n",
    "df_data = add_latest_weather(df_data,df_forecast,df_location)\n",
    "df_data = extend_month_weekday(df_data)\n",
    "df_data = previous_value(df_data)\n",
    "df_data = df_data.sort(by=\"datetime\")\n",
    "df_data = df_data.filter(pl.col(\"datetime\")>=datetime.datetime(2021, 9, 14, 0, 0))"
   ]
  },
  {
   "cell_type": "code",
   "execution_count": 25,
   "id": "824a095d",
   "metadata": {},
   "outputs": [],
   "source": [
    "tmpdata = df_data[[\"month\",\"weekday\",\"hour\",\"last_week_target\",\"target\",\"date\"]].to_pandas()\n",
    "tmpdata[\"year\"] = tmpdata[\"date\"].dt.year\n",
    "tmpdata['year_month'] = tmpdata['year'].astype(str) + tmpdata['month'].apply(lambda x: f\"{x:02d}\")\n",
    "\n",
    "tmpdata[\"mae\"] = (tmpdata[\"target\"]-tmpdata[\"last_week_target\"]).abs()"
   ]
  },
  {
   "cell_type": "code",
   "execution_count": 111,
   "id": "520decc1",
   "metadata": {},
   "outputs": [],
   "source": [
    "# tmpdata[[\"year_month\",\"mae\"]].groupby(\"year_month\").mean()"
   ]
  },
  {
   "attachments": {},
   "cell_type": "markdown",
   "id": "a98812d0",
   "metadata": {
    "papermill": {
     "duration": 0.02912,
     "end_time": "2023-11-26T13:01:16.377350",
     "exception": false,
     "start_time": "2023-11-26T13:01:16.348230",
     "status": "completed"
    },
    "tags": []
   },
   "source": [
    "### Training"
   ]
  },
  {
   "cell_type": "code",
   "execution_count": 8,
   "id": "ef8a8c06",
   "metadata": {},
   "outputs": [],
   "source": [
    "from sklearn.metrics import mean_absolute_error,mean_squared_error,r2_score"
   ]
  },
  {
   "cell_type": "code",
   "execution_count": 9,
   "metadata": {},
   "outputs": [],
   "source": [
    "class TimeFold:\n",
    "    def __init__(self, train_range=28, test_range=14,mincount=5000,runs=np.inf):\n",
    "        self.train_range = train_range\n",
    "        self.test_range = test_range\n",
    "        self.mincount=mincount\n",
    "        self.runs=runs\n",
    "    def split(self, X):\n",
    "        end = len(X) - 1\n",
    "        count=0\n",
    "        while end >= 0 and count<self.runs:\n",
    "            test_end = X[end]\n",
    "            test_start = (X[end] - datetime.timedelta(days=self.test_range))\n",
    "            \n",
    "            train_start = (X[end] - datetime.timedelta(days=self.train_range + self.test_range))\n",
    "            train_end= (X[end] - datetime.timedelta(days=self.test_range))\n",
    "            test_indices = np.where((X <= test_end) & (X > test_start))[0]\n",
    "            train_indices = np.where((X <= train_end) & (X > train_start))[0]\n",
    "\n",
    "            end = test_indices[0] - 1 if len(test_indices) > 0 else -1\n",
    "\n",
    "            if len(test_indices)>self.mincount and len(train_indices)>self.mincount:\n",
    "                yield train_indices, test_indices,(train_start,train_end),(test_start,test_end)\n",
    "                count+=1"
   ]
  },
  {
   "cell_type": "code",
   "execution_count": 10,
   "id": "a704e8c3",
   "metadata": {},
   "outputs": [],
   "source": [
    "def get_metrics(gt,pred):\n",
    "    return {\n",
    "        \"length\": len(gt),\n",
    "        \"mae\": mean_absolute_error(gt,pred),\n",
    "        \"rmse\": np.sqrt(mean_squared_error(gt,pred)),\n",
    "        \"r2_score\": r2_score(gt,pred),\n",
    "    }"
   ]
  },
  {
   "cell_type": "code",
   "execution_count": 11,
   "id": "d7e03b93",
   "metadata": {},
   "outputs": [],
   "source": [
    "# vals = []\n",
    "# for i,gr in train[[\"county\",\"is_business\",\"product_type\",\"target\",\"is_consumption\",\"last_week_target\"]].group_by([\"county\",\"is_business\",\"product_type\",\"is_consumption\"]):\n",
    "#     vals.append([*i,(gr[\"target\"]-gr[\"last_week_target\"]).abs().mean()])\n",
    "# vals = pd.DataFrame(vals,columns=[\"county\",\"is_business\",\"product_type\",\"is_consumption\",\"mae\"])"
   ]
  },
  {
   "cell_type": "code",
   "execution_count": 15,
   "id": "4ee31add",
   "metadata": {},
   "outputs": [
    {
     "data": {
      "text/html": [
       "<div><style>\n",
       ".dataframe > thead > tr,\n",
       ".dataframe > tbody > tr {\n",
       "  text-align: right;\n",
       "  white-space: pre-wrap;\n",
       "}\n",
       "</style>\n",
       "<small>shape: (93_744, 31)</small><table border=\"1\" class=\"dataframe\"><thead><tr><th>county</th><th>is_business</th><th>product_type</th><th>target</th><th>is_consumption</th><th>datetime</th><th>data_block_id</th><th>row_id</th><th>prediction_unit_id</th><th>date</th><th>euros_per_mwh</th><th>lowest_price_per_mwh</th><th>highest_price_per_mwh</th><th>eic_count</th><th>installed_capacity</th><th>temperature</th><th>dewpoint</th><th>cloudcover_high</th><th>cloudcover_low</th><th>cloudcover_mid</th><th>cloudcover_total</th><th>10_metre_u_wind_component</th><th>10_metre_v_wind_component</th><th>direct_solar_radiation</th><th>surface_solar_radiation_downwards</th><th>snowfall</th><th>total_precipitation</th><th>month</th><th>weekday</th><th>hour</th><th>last_week_target</th></tr><tr><td>i64</td><td>i64</td><td>i64</td><td>f64</td><td>i64</td><td>datetime[μs]</td><td>i64</td><td>i64</td><td>i64</td><td>date</td><td>f64</td><td>f64</td><td>f64</td><td>i64</td><td>f64</td><td>f64</td><td>f64</td><td>f64</td><td>f64</td><td>f64</td><td>f64</td><td>f64</td><td>f64</td><td>f64</td><td>f64</td><td>f64</td><td>f64</td><td>u32</td><td>u32</td><td>u32</td><td>f64</td></tr></thead><tbody><tr><td>0</td><td>0</td><td>1</td><td>1.606</td><td>0</td><td>2023-04-02 00:00:00</td><td>578</td><td>1828128</td><td>0</td><td>2023-04-02</td><td>39.58</td><td>48.8</td><td>60.0</td><td>547</td><td>5250.705</td><td>-1.679256</td><td>-5.103451</td><td>0.0</td><td>0.0</td><td>0.0</td><td>0.0</td><td>-2.461905</td><td>-5.114275</td><td>0.0</td><td>0.0</td><td>0.0</td><td>0.0</td><td>4</td><td>7</td><td>0</td><td>2.889</td></tr><tr><td>0</td><td>0</td><td>1</td><td>967.361</td><td>1</td><td>2023-04-02 00:00:00</td><td>578</td><td>1828129</td><td>0</td><td>2023-04-02</td><td>39.58</td><td>48.8</td><td>60.0</td><td>547</td><td>5250.705</td><td>-1.679256</td><td>-5.103451</td><td>0.0</td><td>0.0</td><td>0.0</td><td>0.0</td><td>-2.461905</td><td>-5.114275</td><td>0.0</td><td>0.0</td><td>0.0</td><td>0.0</td><td>4</td><td>7</td><td>0</td><td>837.884</td></tr><tr><td>0</td><td>0</td><td>2</td><td>0.0</td><td>0</td><td>2023-04-02 00:00:00</td><td>578</td><td>1828130</td><td>1</td><td>2023-04-02</td><td>39.58</td><td>48.8</td><td>60.0</td><td>15</td><td>52.5</td><td>-1.679256</td><td>-5.103451</td><td>0.0</td><td>0.0</td><td>0.0</td><td>0.0</td><td>-2.461905</td><td>-5.114275</td><td>0.0</td><td>0.0</td><td>0.0</td><td>0.0</td><td>4</td><td>7</td><td>0</td><td>0.0</td></tr><tr><td>0</td><td>0</td><td>2</td><td>10.613</td><td>1</td><td>2023-04-02 00:00:00</td><td>578</td><td>1828131</td><td>1</td><td>2023-04-02</td><td>39.58</td><td>48.8</td><td>60.0</td><td>15</td><td>52.5</td><td>-1.679256</td><td>-5.103451</td><td>0.0</td><td>0.0</td><td>0.0</td><td>0.0</td><td>-2.461905</td><td>-5.114275</td><td>0.0</td><td>0.0</td><td>0.0</td><td>0.0</td><td>4</td><td>7</td><td>0</td><td>17.237</td></tr><tr><td>0</td><td>0</td><td>3</td><td>7.601</td><td>0</td><td>2023-04-02 00:00:00</td><td>578</td><td>1828132</td><td>2</td><td>2023-04-02</td><td>39.58</td><td>48.8</td><td>60.0</td><td>1241</td><td>12929.96</td><td>-1.679256</td><td>-5.103451</td><td>0.0</td><td>0.0</td><td>0.0</td><td>0.0</td><td>-2.461905</td><td>-5.114275</td><td>0.0</td><td>0.0</td><td>0.0</td><td>0.0</td><td>4</td><td>7</td><td>0</td><td>1.316</td></tr><tr><td>0</td><td>0</td><td>3</td><td>2436.048</td><td>1</td><td>2023-04-02 00:00:00</td><td>578</td><td>1828133</td><td>2</td><td>2023-04-02</td><td>39.58</td><td>48.8</td><td>60.0</td><td>1241</td><td>12929.96</td><td>-1.679256</td><td>-5.103451</td><td>0.0</td><td>0.0</td><td>0.0</td><td>0.0</td><td>-2.461905</td><td>-5.114275</td><td>0.0</td><td>0.0</td><td>0.0</td><td>0.0</td><td>4</td><td>7</td><td>0</td><td>1959.104</td></tr><tr><td>0</td><td>1</td><td>0</td><td>0.0</td><td>0</td><td>2023-04-02 00:00:00</td><td>578</td><td>1828134</td><td>3</td><td>2023-04-02</td><td>39.58</td><td>48.8</td><td>60.0</td><td>22</td><td>1036.2</td><td>-1.679256</td><td>-5.103451</td><td>0.0</td><td>0.0</td><td>0.0</td><td>0.0</td><td>-2.461905</td><td>-5.114275</td><td>0.0</td><td>0.0</td><td>0.0</td><td>0.0</td><td>4</td><td>7</td><td>0</td><td>0.0</td></tr><tr><td>0</td><td>1</td><td>0</td><td>623.384</td><td>1</td><td>2023-04-02 00:00:00</td><td>578</td><td>1828135</td><td>3</td><td>2023-04-02</td><td>39.58</td><td>48.8</td><td>60.0</td><td>22</td><td>1036.2</td><td>-1.679256</td><td>-5.103451</td><td>0.0</td><td>0.0</td><td>0.0</td><td>0.0</td><td>-2.461905</td><td>-5.114275</td><td>0.0</td><td>0.0</td><td>0.0</td><td>0.0</td><td>4</td><td>7</td><td>0</td><td>617.782</td></tr><tr><td>0</td><td>1</td><td>1</td><td>0.0</td><td>0</td><td>2023-04-02 00:00:00</td><td>578</td><td>1828136</td><td>4</td><td>2023-04-02</td><td>39.58</td><td>48.8</td><td>60.0</td><td>92</td><td>2500.8</td><td>-1.679256</td><td>-5.103451</td><td>0.0</td><td>0.0</td><td>0.0</td><td>0.0</td><td>-2.461905</td><td>-5.114275</td><td>0.0</td><td>0.0</td><td>0.0</td><td>0.0</td><td>4</td><td>7</td><td>0</td><td>0.0</td></tr><tr><td>0</td><td>1</td><td>1</td><td>1042.999</td><td>1</td><td>2023-04-02 00:00:00</td><td>578</td><td>1828137</td><td>4</td><td>2023-04-02</td><td>39.58</td><td>48.8</td><td>60.0</td><td>92</td><td>2500.8</td><td>-1.679256</td><td>-5.103451</td><td>0.0</td><td>0.0</td><td>0.0</td><td>0.0</td><td>-2.461905</td><td>-5.114275</td><td>0.0</td><td>0.0</td><td>0.0</td><td>0.0</td><td>4</td><td>7</td><td>0</td><td>841.043</td></tr><tr><td>0</td><td>1</td><td>2</td><td>0.069</td><td>0</td><td>2023-04-02 00:00:00</td><td>578</td><td>1828138</td><td>61</td><td>2023-04-02</td><td>39.58</td><td>48.8</td><td>60.0</td><td>12</td><td>51.5</td><td>-1.679256</td><td>-5.103451</td><td>0.0</td><td>0.0</td><td>0.0</td><td>0.0</td><td>-2.461905</td><td>-5.114275</td><td>0.0</td><td>0.0</td><td>0.0</td><td>0.0</td><td>4</td><td>7</td><td>0</td><td>0.0</td></tr><tr><td>0</td><td>1</td><td>2</td><td>80.942</td><td>1</td><td>2023-04-02 00:00:00</td><td>578</td><td>1828139</td><td>61</td><td>2023-04-02</td><td>39.58</td><td>48.8</td><td>60.0</td><td>12</td><td>51.5</td><td>-1.679256</td><td>-5.103451</td><td>0.0</td><td>0.0</td><td>0.0</td><td>0.0</td><td>-2.461905</td><td>-5.114275</td><td>0.0</td><td>0.0</td><td>0.0</td><td>0.0</td><td>4</td><td>7</td><td>0</td><td>57.441</td></tr><tr><td>&hellip;</td><td>&hellip;</td><td>&hellip;</td><td>&hellip;</td><td>&hellip;</td><td>&hellip;</td><td>&hellip;</td><td>&hellip;</td><td>&hellip;</td><td>&hellip;</td><td>&hellip;</td><td>&hellip;</td><td>&hellip;</td><td>&hellip;</td><td>&hellip;</td><td>&hellip;</td><td>&hellip;</td><td>&hellip;</td><td>&hellip;</td><td>&hellip;</td><td>&hellip;</td><td>&hellip;</td><td>&hellip;</td><td>&hellip;</td><td>&hellip;</td><td>&hellip;</td><td>&hellip;</td><td>&hellip;</td><td>&hellip;</td><td>&hellip;</td><td>&hellip;</td></tr><tr><td>14</td><td>1</td><td>3</td><td>8.387</td><td>0</td><td>2023-05-01 23:00:00</td><td>607</td><td>1921860</td><td>56</td><td>2023-05-01</td><td>91.99</td><td>47.0</td><td>53.0</td><td>81</td><td>4299.1</td><td>6.115808</td><td>2.286554</td><td>0.893484</td><td>0.226006</td><td>0.477585</td><td>0.946664</td><td>2.681786</td><td>4.785378</td><td>0.0</td><td>0.0</td><td>0.0</td><td>0.000079</td><td>5</td><td>1</td><td>23</td><td>17.875</td></tr><tr><td>14</td><td>1</td><td>3</td><td>740.728</td><td>1</td><td>2023-05-01 23:00:00</td><td>607</td><td>1921861</td><td>56</td><td>2023-05-01</td><td>91.99</td><td>47.0</td><td>53.0</td><td>81</td><td>4299.1</td><td>6.115808</td><td>2.286554</td><td>0.893484</td><td>0.226006</td><td>0.477585</td><td>0.946664</td><td>2.681786</td><td>4.785378</td><td>0.0</td><td>0.0</td><td>0.0</td><td>0.000079</td><td>5</td><td>1</td><td>23</td><td>1643.831</td></tr><tr><td>15</td><td>0</td><td>1</td><td>0.008</td><td>0</td><td>2023-05-01 23:00:00</td><td>607</td><td>1921862</td><td>57</td><td>2023-05-01</td><td>91.99</td><td>47.0</td><td>53.0</td><td>49</td><td>387.39</td><td>5.395013</td><td>1.81933</td><td>0.983061</td><td>0.6241</td><td>0.409531</td><td>0.989303</td><td>1.968102</td><td>3.640481</td><td>0.0</td><td>0.0</td><td>0.000014</td><td>0.000208</td><td>5</td><td>1</td><td>23</td><td>0.26</td></tr><tr><td>15</td><td>0</td><td>1</td><td>49.611</td><td>1</td><td>2023-05-01 23:00:00</td><td>607</td><td>1921863</td><td>57</td><td>2023-05-01</td><td>91.99</td><td>47.0</td><td>53.0</td><td>49</td><td>387.39</td><td>5.395013</td><td>1.81933</td><td>0.983061</td><td>0.6241</td><td>0.409531</td><td>0.989303</td><td>1.968102</td><td>3.640481</td><td>0.0</td><td>0.0</td><td>0.000014</td><td>0.000208</td><td>5</td><td>1</td><td>23</td><td>31.745</td></tr><tr><td>15</td><td>0</td><td>3</td><td>2.684</td><td>0</td><td>2023-05-01 23:00:00</td><td>607</td><td>1921864</td><td>58</td><td>2023-05-01</td><td>91.99</td><td>47.0</td><td>53.0</td><td>139</td><td>1633.75</td><td>5.395013</td><td>1.81933</td><td>0.983061</td><td>0.6241</td><td>0.409531</td><td>0.989303</td><td>1.968102</td><td>3.640481</td><td>0.0</td><td>0.0</td><td>0.000014</td><td>0.000208</td><td>5</td><td>1</td><td>23</td><td>2.933</td></tr><tr><td>15</td><td>0</td><td>3</td><td>123.03</td><td>1</td><td>2023-05-01 23:00:00</td><td>607</td><td>1921865</td><td>58</td><td>2023-05-01</td><td>91.99</td><td>47.0</td><td>53.0</td><td>139</td><td>1633.75</td><td>5.395013</td><td>1.81933</td><td>0.983061</td><td>0.6241</td><td>0.409531</td><td>0.989303</td><td>1.968102</td><td>3.640481</td><td>0.0</td><td>0.0</td><td>0.000014</td><td>0.000208</td><td>5</td><td>1</td><td>23</td><td>84.419</td></tr><tr><td>15</td><td>1</td><td>0</td><td>0.0</td><td>0</td><td>2023-05-01 23:00:00</td><td>607</td><td>1921866</td><td>64</td><td>2023-05-01</td><td>91.99</td><td>47.0</td><td>53.0</td><td>15</td><td>620.0</td><td>5.395013</td><td>1.81933</td><td>0.983061</td><td>0.6241</td><td>0.409531</td><td>0.989303</td><td>1.968102</td><td>3.640481</td><td>0.0</td><td>0.0</td><td>0.000014</td><td>0.000208</td><td>5</td><td>1</td><td>23</td><td>0.0</td></tr><tr><td>15</td><td>1</td><td>0</td><td>181.939</td><td>1</td><td>2023-05-01 23:00:00</td><td>607</td><td>1921867</td><td>64</td><td>2023-05-01</td><td>91.99</td><td>47.0</td><td>53.0</td><td>15</td><td>620.0</td><td>5.395013</td><td>1.81933</td><td>0.983061</td><td>0.6241</td><td>0.409531</td><td>0.989303</td><td>1.968102</td><td>3.640481</td><td>0.0</td><td>0.0</td><td>0.000014</td><td>0.000208</td><td>5</td><td>1</td><td>23</td><td>493.909</td></tr><tr><td>15</td><td>1</td><td>1</td><td>0.0</td><td>0</td><td>2023-05-01 23:00:00</td><td>607</td><td>1921868</td><td>59</td><td>2023-05-01</td><td>91.99</td><td>47.0</td><td>53.0</td><td>19</td><td>603.0</td><td>5.395013</td><td>1.81933</td><td>0.983061</td><td>0.6241</td><td>0.409531</td><td>0.989303</td><td>1.968102</td><td>3.640481</td><td>0.0</td><td>0.0</td><td>0.000014</td><td>0.000208</td><td>5</td><td>1</td><td>23</td><td>0.0</td></tr><tr><td>15</td><td>1</td><td>1</td><td>43.158</td><td>1</td><td>2023-05-01 23:00:00</td><td>607</td><td>1921869</td><td>59</td><td>2023-05-01</td><td>91.99</td><td>47.0</td><td>53.0</td><td>19</td><td>603.0</td><td>5.395013</td><td>1.81933</td><td>0.983061</td><td>0.6241</td><td>0.409531</td><td>0.989303</td><td>1.968102</td><td>3.640481</td><td>0.0</td><td>0.0</td><td>0.000014</td><td>0.000208</td><td>5</td><td>1</td><td>23</td><td>41.061</td></tr><tr><td>15</td><td>1</td><td>3</td><td>0.0</td><td>0</td><td>2023-05-01 23:00:00</td><td>607</td><td>1921870</td><td>60</td><td>2023-05-01</td><td>91.99</td><td>47.0</td><td>53.0</td><td>50</td><td>1882.7</td><td>5.395013</td><td>1.81933</td><td>0.983061</td><td>0.6241</td><td>0.409531</td><td>0.989303</td><td>1.968102</td><td>3.640481</td><td>0.0</td><td>0.0</td><td>0.000014</td><td>0.000208</td><td>5</td><td>1</td><td>23</td><td>0.0</td></tr><tr><td>15</td><td>1</td><td>3</td><td>200.858</td><td>1</td><td>2023-05-01 23:00:00</td><td>607</td><td>1921871</td><td>60</td><td>2023-05-01</td><td>91.99</td><td>47.0</td><td>53.0</td><td>50</td><td>1882.7</td><td>5.395013</td><td>1.81933</td><td>0.983061</td><td>0.6241</td><td>0.409531</td><td>0.989303</td><td>1.968102</td><td>3.640481</td><td>0.0</td><td>0.0</td><td>0.000014</td><td>0.000208</td><td>5</td><td>1</td><td>23</td><td>189.551</td></tr></tbody></table></div>"
      ],
      "text/plain": [
       "shape: (93_744, 31)\n",
       "┌────────┬─────────────┬──────────────┬─────────┬───┬───────┬─────────┬──────┬──────────────────┐\n",
       "│ county ┆ is_business ┆ product_type ┆ target  ┆ … ┆ month ┆ weekday ┆ hour ┆ last_week_target │\n",
       "│ ---    ┆ ---         ┆ ---          ┆ ---     ┆   ┆ ---   ┆ ---     ┆ ---  ┆ ---              │\n",
       "│ i64    ┆ i64         ┆ i64          ┆ f64     ┆   ┆ u32   ┆ u32     ┆ u32  ┆ f64              │\n",
       "╞════════╪═════════════╪══════════════╪═════════╪═══╪═══════╪═════════╪══════╪══════════════════╡\n",
       "│ 0      ┆ 0           ┆ 1            ┆ 1.606   ┆ … ┆ 4     ┆ 7       ┆ 0    ┆ 2.889            │\n",
       "│ 0      ┆ 0           ┆ 1            ┆ 967.361 ┆ … ┆ 4     ┆ 7       ┆ 0    ┆ 837.884          │\n",
       "│ 0      ┆ 0           ┆ 2            ┆ 0.0     ┆ … ┆ 4     ┆ 7       ┆ 0    ┆ 0.0              │\n",
       "│ 0      ┆ 0           ┆ 2            ┆ 10.613  ┆ … ┆ 4     ┆ 7       ┆ 0    ┆ 17.237           │\n",
       "│ …      ┆ …           ┆ …            ┆ …       ┆ … ┆ …     ┆ …       ┆ …    ┆ …                │\n",
       "│ 15     ┆ 1           ┆ 1            ┆ 0.0     ┆ … ┆ 5     ┆ 1       ┆ 23   ┆ 0.0              │\n",
       "│ 15     ┆ 1           ┆ 1            ┆ 43.158  ┆ … ┆ 5     ┆ 1       ┆ 23   ┆ 41.061           │\n",
       "│ 15     ┆ 1           ┆ 3            ┆ 0.0     ┆ … ┆ 5     ┆ 1       ┆ 23   ┆ 0.0              │\n",
       "│ 15     ┆ 1           ┆ 3            ┆ 200.858 ┆ … ┆ 5     ┆ 1       ┆ 23   ┆ 189.551          │\n",
       "└────────┴─────────────┴──────────────┴─────────┴───┴───────┴─────────┴──────┴──────────────────┘"
      ]
     },
     "execution_count": 15,
     "metadata": {},
     "output_type": "execute_result"
    }
   ],
   "source": [
    "train"
   ]
  },
  {
   "cell_type": "code",
   "execution_count": 14,
   "id": "25f428a2",
   "metadata": {
    "execution": {
     "iopub.execute_input": "2023-11-26T13:01:16.438153Z",
     "iopub.status.busy": "2023-11-26T13:01:16.437697Z",
     "iopub.status.idle": "2023-11-26T13:34:24.746399Z",
     "shell.execute_reply": "2023-11-26T13:34:24.744674Z"
    },
    "papermill": {
     "duration": 1988.343576,
     "end_time": "2023-11-26T13:34:24.750266",
     "exception": false,
     "start_time": "2023-11-26T13:01:16.406690",
     "status": "completed"
    },
    "tags": []
   },
   "outputs": [
    {
     "name": "stderr",
     "output_type": "stream",
     "text": [
      "/usr/local/lib/python3.8/dist-packages/lightgbm/engine.py:172: UserWarning: Found `n_iter` in params. Will use it instead of argument\n",
      "  _log_warning(f\"Found `{alias}` in params. Will use it instead of argument\")\n"
     ]
    },
    {
     "name": "stdout",
     "output_type": "stream",
     "text": [
      "[LightGBM] [Warning] lambda_l2 is set=1.6591278779517808, reg_lambda=0.0 will be ignored. Current value: lambda_l2=1.6591278779517808\n",
      "[LightGBM] [Warning] num_iterations is set=700, n_iter=700 will be ignored. Current value: num_iterations=700\n",
      "[LightGBM] [Warning] lambda_l1 is set=3.6277555139102864, reg_alpha=0.0 will be ignored. Current value: lambda_l1=3.6277555139102864\n",
      "[LightGBM] [Warning] min_data_in_leaf is set=186, min_child_samples=20 will be ignored. Current value: min_data_in_leaf=186\n",
      "[LightGBM] [Warning] Accuracy may be bad since you didn't explicitly set num_leaves OR 2^max_depth > num_leaves. (num_leaves=31).\n",
      "[LightGBM] [Warning] min_data_in_leaf is set=186, min_child_samples=20 will be ignored. Current value: min_data_in_leaf=186\n",
      "[LightGBM] [Warning] lambda_l2 is set=1.6591278779517808, reg_lambda=0.0 will be ignored. Current value: lambda_l2=1.6591278779517808\n",
      "[LightGBM] [Warning] lambda_l1 is set=3.6277555139102864, reg_alpha=0.0 will be ignored. Current value: lambda_l1=3.6277555139102864\n",
      "[LightGBM] [Warning] Accuracy may be bad since you didn't explicitly set num_leaves OR 2^max_depth > num_leaves. (num_leaves=31).\n",
      "[LightGBM] [Info] Auto-choosing row-wise multi-threading, the overhead of testing was 0.159346 seconds.\n",
      "You can set `force_row_wise=true` to remove the overhead.\n",
      "And if memory is not enough, you can set `force_col_wise=true`.\n",
      "[LightGBM] [Info] Total Bins 11670\n",
      "[LightGBM] [Info] Number of data points in the train set: 93744, number of used features: 25\n",
      "[LightGBM] [Info] Start training from score 330.288454\n"
     ]
    },
    {
     "ename": "KeyboardInterrupt",
     "evalue": "",
     "output_type": "error",
     "traceback": [
      "\u001b[0;31m---------------------------------------------------------------------------\u001b[0m",
      "\u001b[0;31mKeyboardInterrupt\u001b[0m                         Traceback (most recent call last)",
      "Cell \u001b[0;32mIn[14], line 25\u001b[0m\n\u001b[1;32m     23\u001b[0m test \u001b[39m=\u001b[39m df_data[test]\n\u001b[1;32m     24\u001b[0m model \u001b[39m=\u001b[39m lgb\u001b[39m.\u001b[39mLGBMRegressor(\u001b[39m*\u001b[39m\u001b[39m*\u001b[39mbest_params, random_state\u001b[39m=\u001b[39m\u001b[39m100\u001b[39m) \n\u001b[0;32m---> 25\u001b[0m model\u001b[39m.\u001b[39;49mfit(\n\u001b[1;32m     26\u001b[0m     X\u001b[39m=\u001b[39;49mtrain\u001b[39m.\u001b[39;49mdrop(drop_cols),\n\u001b[1;32m     27\u001b[0m     y\u001b[39m=\u001b[39;49mtrain[target_col],\n\u001b[1;32m     28\u001b[0m     \u001b[39m# eval_set=[(test.drop(drop_cols), test[target_col])],\u001b[39;49;00m\n\u001b[1;32m     29\u001b[0m     \u001b[39m# eval_metric='mae',\u001b[39;49;00m\n\u001b[1;32m     30\u001b[0m     \u001b[39m# callbacks=[\u001b[39;49;00m\n\u001b[1;32m     31\u001b[0m     \u001b[39m#     lgb.early_stopping(stopping_rounds=50, verbose=True),\u001b[39;49;00m\n\u001b[1;32m     32\u001b[0m     \u001b[39m#     lgb.log_evaluation(50),\u001b[39;49;00m\n\u001b[1;32m     33\u001b[0m     \u001b[39m# ],\u001b[39;49;00m\n\u001b[1;32m     34\u001b[0m )\n\u001b[1;32m     35\u001b[0m predictions \u001b[39m=\u001b[39m model\u001b[39m.\u001b[39mpredict(test\u001b[39m.\u001b[39mdrop(drop_cols))\n\u001b[1;32m     36\u001b[0m test_res\u001b[39m.\u001b[39mappend([predictions,test[target_col]\u001b[39m.\u001b[39mto_numpy()])\n",
      "File \u001b[0;32m/usr/local/lib/python3.8/dist-packages/lightgbm/sklearn.py:1049\u001b[0m, in \u001b[0;36mLGBMRegressor.fit\u001b[0;34m(self, X, y, sample_weight, init_score, eval_set, eval_names, eval_sample_weight, eval_init_score, eval_metric, feature_name, categorical_feature, callbacks, init_model)\u001b[0m\n\u001b[1;32m   1032\u001b[0m \u001b[39mdef\u001b[39;00m \u001b[39mfit\u001b[39m(  \u001b[39m# type: ignore[override]\u001b[39;00m\n\u001b[1;32m   1033\u001b[0m     \u001b[39mself\u001b[39m,\n\u001b[1;32m   1034\u001b[0m     X: _LGBM_ScikitMatrixLike,\n\u001b[0;32m   (...)\u001b[0m\n\u001b[1;32m   1046\u001b[0m     init_model: Optional[Union[\u001b[39mstr\u001b[39m, Path, Booster, LGBMModel]] \u001b[39m=\u001b[39m \u001b[39mNone\u001b[39;00m\n\u001b[1;32m   1047\u001b[0m ) \u001b[39m-\u001b[39m\u001b[39m>\u001b[39m \u001b[39m\"\u001b[39m\u001b[39mLGBMRegressor\u001b[39m\u001b[39m\"\u001b[39m:\n\u001b[1;32m   1048\u001b[0m \u001b[39m    \u001b[39m\u001b[39m\"\"\"Docstring is inherited from the LGBMModel.\"\"\"\u001b[39;00m\n\u001b[0;32m-> 1049\u001b[0m     \u001b[39msuper\u001b[39;49m()\u001b[39m.\u001b[39;49mfit(\n\u001b[1;32m   1050\u001b[0m         X,\n\u001b[1;32m   1051\u001b[0m         y,\n\u001b[1;32m   1052\u001b[0m         sample_weight\u001b[39m=\u001b[39;49msample_weight,\n\u001b[1;32m   1053\u001b[0m         init_score\u001b[39m=\u001b[39;49minit_score,\n\u001b[1;32m   1054\u001b[0m         eval_set\u001b[39m=\u001b[39;49meval_set,\n\u001b[1;32m   1055\u001b[0m         eval_names\u001b[39m=\u001b[39;49meval_names,\n\u001b[1;32m   1056\u001b[0m         eval_sample_weight\u001b[39m=\u001b[39;49meval_sample_weight,\n\u001b[1;32m   1057\u001b[0m         eval_init_score\u001b[39m=\u001b[39;49meval_init_score,\n\u001b[1;32m   1058\u001b[0m         eval_metric\u001b[39m=\u001b[39;49meval_metric,\n\u001b[1;32m   1059\u001b[0m         feature_name\u001b[39m=\u001b[39;49mfeature_name,\n\u001b[1;32m   1060\u001b[0m         categorical_feature\u001b[39m=\u001b[39;49mcategorical_feature,\n\u001b[1;32m   1061\u001b[0m         callbacks\u001b[39m=\u001b[39;49mcallbacks,\n\u001b[1;32m   1062\u001b[0m         init_model\u001b[39m=\u001b[39;49minit_model\n\u001b[1;32m   1063\u001b[0m     )\n\u001b[1;32m   1064\u001b[0m     \u001b[39mreturn\u001b[39;00m \u001b[39mself\u001b[39m\n",
      "File \u001b[0;32m/usr/local/lib/python3.8/dist-packages/lightgbm/sklearn.py:842\u001b[0m, in \u001b[0;36mLGBMModel.fit\u001b[0;34m(self, X, y, sample_weight, init_score, group, eval_set, eval_names, eval_sample_weight, eval_class_weight, eval_init_score, eval_group, eval_metric, feature_name, categorical_feature, callbacks, init_model)\u001b[0m\n\u001b[1;32m    839\u001b[0m evals_result: _EvalResultDict \u001b[39m=\u001b[39m {}\n\u001b[1;32m    840\u001b[0m callbacks\u001b[39m.\u001b[39mappend(record_evaluation(evals_result))\n\u001b[0;32m--> 842\u001b[0m \u001b[39mself\u001b[39m\u001b[39m.\u001b[39m_Booster \u001b[39m=\u001b[39m train(\n\u001b[1;32m    843\u001b[0m     params\u001b[39m=\u001b[39;49mparams,\n\u001b[1;32m    844\u001b[0m     train_set\u001b[39m=\u001b[39;49mtrain_set,\n\u001b[1;32m    845\u001b[0m     num_boost_round\u001b[39m=\u001b[39;49m\u001b[39mself\u001b[39;49m\u001b[39m.\u001b[39;49mn_estimators,\n\u001b[1;32m    846\u001b[0m     valid_sets\u001b[39m=\u001b[39;49mvalid_sets,\n\u001b[1;32m    847\u001b[0m     valid_names\u001b[39m=\u001b[39;49meval_names,\n\u001b[1;32m    848\u001b[0m     feval\u001b[39m=\u001b[39;49meval_metrics_callable,  \u001b[39m# type: ignore[arg-type]\u001b[39;49;00m\n\u001b[1;32m    849\u001b[0m     init_model\u001b[39m=\u001b[39;49minit_model,\n\u001b[1;32m    850\u001b[0m     feature_name\u001b[39m=\u001b[39;49mfeature_name,\n\u001b[1;32m    851\u001b[0m     callbacks\u001b[39m=\u001b[39;49mcallbacks\n\u001b[1;32m    852\u001b[0m )\n\u001b[1;32m    854\u001b[0m \u001b[39mself\u001b[39m\u001b[39m.\u001b[39m_evals_result \u001b[39m=\u001b[39m evals_result\n\u001b[1;32m    855\u001b[0m \u001b[39mself\u001b[39m\u001b[39m.\u001b[39m_best_iteration \u001b[39m=\u001b[39m \u001b[39mself\u001b[39m\u001b[39m.\u001b[39m_Booster\u001b[39m.\u001b[39mbest_iteration\n",
      "File \u001b[0;32m/usr/local/lib/python3.8/dist-packages/lightgbm/engine.py:276\u001b[0m, in \u001b[0;36mtrain\u001b[0;34m(params, train_set, num_boost_round, valid_sets, valid_names, feval, init_model, feature_name, categorical_feature, keep_training_booster, callbacks)\u001b[0m\n\u001b[1;32m    268\u001b[0m \u001b[39mfor\u001b[39;00m cb \u001b[39min\u001b[39;00m callbacks_before_iter:\n\u001b[1;32m    269\u001b[0m     cb(callback\u001b[39m.\u001b[39mCallbackEnv(model\u001b[39m=\u001b[39mbooster,\n\u001b[1;32m    270\u001b[0m                             params\u001b[39m=\u001b[39mparams,\n\u001b[1;32m    271\u001b[0m                             iteration\u001b[39m=\u001b[39mi,\n\u001b[1;32m    272\u001b[0m                             begin_iteration\u001b[39m=\u001b[39minit_iteration,\n\u001b[1;32m    273\u001b[0m                             end_iteration\u001b[39m=\u001b[39minit_iteration \u001b[39m+\u001b[39m num_boost_round,\n\u001b[1;32m    274\u001b[0m                             evaluation_result_list\u001b[39m=\u001b[39m\u001b[39mNone\u001b[39;00m))\n\u001b[0;32m--> 276\u001b[0m booster\u001b[39m.\u001b[39;49mupdate(fobj\u001b[39m=\u001b[39;49mfobj)\n\u001b[1;32m    278\u001b[0m evaluation_result_list: List[_LGBM_BoosterEvalMethodResultType] \u001b[39m=\u001b[39m []\n\u001b[1;32m    279\u001b[0m \u001b[39m# check evaluation result.\u001b[39;00m\n",
      "File \u001b[0;32m/usr/local/lib/python3.8/dist-packages/lightgbm/basic.py:3658\u001b[0m, in \u001b[0;36mBooster.update\u001b[0;34m(self, train_set, fobj)\u001b[0m\n\u001b[1;32m   3656\u001b[0m \u001b[39mif\u001b[39;00m \u001b[39mself\u001b[39m\u001b[39m.\u001b[39m__set_objective_to_none:\n\u001b[1;32m   3657\u001b[0m     \u001b[39mraise\u001b[39;00m LightGBMError(\u001b[39m'\u001b[39m\u001b[39mCannot update due to null objective function.\u001b[39m\u001b[39m'\u001b[39m)\n\u001b[0;32m-> 3658\u001b[0m _safe_call(_LIB\u001b[39m.\u001b[39;49mLGBM_BoosterUpdateOneIter(\n\u001b[1;32m   3659\u001b[0m     \u001b[39mself\u001b[39;49m\u001b[39m.\u001b[39;49m_handle,\n\u001b[1;32m   3660\u001b[0m     ctypes\u001b[39m.\u001b[39;49mbyref(is_finished)))\n\u001b[1;32m   3661\u001b[0m \u001b[39mself\u001b[39m\u001b[39m.\u001b[39m__is_predicted_cur_iter \u001b[39m=\u001b[39m [\u001b[39mFalse\u001b[39;00m \u001b[39mfor\u001b[39;00m _ \u001b[39min\u001b[39;00m \u001b[39mrange\u001b[39m(\u001b[39mself\u001b[39m\u001b[39m.\u001b[39m__num_dataset)]\n\u001b[1;32m   3662\u001b[0m \u001b[39mreturn\u001b[39;00m is_finished\u001b[39m.\u001b[39mvalue \u001b[39m==\u001b[39m \u001b[39m1\u001b[39m\n",
      "\u001b[0;31mKeyboardInterrupt\u001b[0m: "
     ]
    }
   ],
   "source": [
    "drop_cols=[\"target\",\"datetime\",\"row_id\",\"data_block_id\",\"prediction_unit_id\",\"date\"]\n",
    "target_col = \"target\"\n",
    "best_params = {\n",
    "    'n_iter'           : 700,\n",
    "    'verbose'          : 1,\n",
    "    'objective'        : 'l2',\n",
    "    'learning_rate'    : 0.05689066836106983,\n",
    "    'colsample_bytree' : 0.8915976762048253,\n",
    "    'colsample_bynode' : 0.5942203285139224,\n",
    "    'lambda_l1'        : 3.6277555139102864,\n",
    "    'lambda_l2'        : 1.6591278779517808,\n",
    "    'min_data_in_leaf' : 186,\n",
    "    'max_depth'        : 9,\n",
    "    'max_bin'          : 813,\n",
    "} \n",
    "\n",
    "folds = TimeFold(train_range=30,test_range=30,runs=2)\n",
    "train_res = []\n",
    "test_res = []\n",
    "foldwise_metric = []\n",
    "for i,(train,test,train_duration,test_duration) in enumerate(folds.split(df_data[\"datetime\"].to_pandas())):\n",
    "    train = df_data[train]\n",
    "    test = df_data[test]\n",
    "    model = lgb.LGBMRegressor(**best_params, random_state=100) \n",
    "    model.fit(\n",
    "        X=train.drop(drop_cols),\n",
    "        y=train[target_col],\n",
    "        # eval_set=[(test.drop(drop_cols), test[target_col])],\n",
    "        # eval_metric='mae',\n",
    "        # callbacks=[\n",
    "        #     lgb.early_stopping(stopping_rounds=50, verbose=True),\n",
    "        #     lgb.log_evaluation(50),\n",
    "        # ],\n",
    "    )\n",
    "    predictions = model.predict(test.drop(drop_cols))\n",
    "    test_res.append([predictions,test[target_col].to_numpy()])\n",
    "    test_met = get_metrics(test[target_col],predictions)\n",
    "    predictions = model.predict(train.drop(drop_cols))\n",
    "    train_res.append([predictions,train[target_col].to_numpy()])\n",
    "    train_met = get_metrics(train[target_col],predictions)\n",
    "    foldwise_metric.append({\n",
    "        \"train\": train_met,\n",
    "        \"test\": test_met\n",
    "    })\n",
    "    print(f\"FOLD {i+1} || train_mae: {train_met} valid_mae: {test_met} ||\")"
   ]
  },
  {
   "cell_type": "code",
   "execution_count": null,
   "id": "f7905118",
   "metadata": {},
   "outputs": [],
   "source": [
    "test_met = get_metrics(np.concatenate([x[1] for x in test_res]),np.concatenate([x[0] for x in test_res]))\n",
    "print(f\"Overall || valid_mae: {test_met} ||\")"
   ]
  },
  {
   "cell_type": "code",
   "execution_count": null,
   "id": "705cf4b5",
   "metadata": {},
   "outputs": [],
   "source": [
    "gts = np.concatenate([x[1] for x in test_res])\n",
    "preds = np.concatenate([x[0] for x in test_res])\n",
    "mask = np.random.rand(len(gts))<0.2\n",
    "plt.scatter(gts[mask],preds[mask],s=0.1)\n",
    "plt.xlabel('Ground Truth')\n",
    "plt.ylabel('Prediction')\n",
    "plt.title('Feature Importances')\n",
    "plt.show()\n",
    "# Get feature importances\n",
    "feature_importances = model.feature_importances_\n",
    "argsort = np.argsort(model.feature_importances_)[::-1]\n",
    "feature_importances = [feature_importances[x] for x in argsort]\n",
    "columns = test.drop(drop_cols).columns\n",
    "# Plotting the feature importances\n",
    "plt.figure(figsize=(10, 6))\n",
    "plt.bar(range(len(feature_importances)), feature_importances)\n",
    "plt.xlabel('Features')\n",
    "plt.ylabel('Importance')\n",
    "plt.title('Feature Importances')\n",
    "plt.xticks(ticks=np.arange(len(feature_importances)), labels=[columns[x] for x in argsort],rotation=90)\n",
    "plt.show()"
   ]
  },
  {
   "cell_type": "code",
   "execution_count": null,
   "id": "9335f9b7",
   "metadata": {},
   "outputs": [],
   "source": [
    "if save_path is not None:\n",
    "    with open(save_path, \"wb\") as f:\n",
    "        pickle.dump(model, f)"
   ]
  },
  {
   "attachments": {},
   "cell_type": "markdown",
   "id": "e9a97f73",
   "metadata": {
    "papermill": {
     "duration": 0.030389,
     "end_time": "2023-11-26T13:34:24.812015",
     "exception": false,
     "start_time": "2023-11-26T13:34:24.781626",
     "status": "completed"
    },
    "tags": []
   },
   "source": [
    "### Prediction"
   ]
  },
  {
   "cell_type": "code",
   "execution_count": null,
   "id": "e81bb77b",
   "metadata": {
    "execution": {
     "iopub.execute_input": "2023-11-26T13:34:24.875947Z",
     "iopub.status.busy": "2023-11-26T13:34:24.875464Z",
     "iopub.status.idle": "2023-11-26T13:34:24.921226Z",
     "shell.execute_reply": "2023-11-26T13:34:24.919728Z"
    },
    "papermill": {
     "duration": 0.081685,
     "end_time": "2023-11-26T13:34:24.924299",
     "exception": false,
     "start_time": "2023-11-26T13:34:24.842614",
     "status": "completed"
    },
    "tags": []
   },
   "outputs": [],
   "source": [
    "import enefit\n",
    "\n",
    "env = enefit.make_env()\n",
    "iter_test = env.iter_test()"
   ]
  },
  {
   "cell_type": "code",
   "execution_count": null,
   "id": "fb1f68e7",
   "metadata": {
    "execution": {
     "iopub.execute_input": "2023-11-26T13:34:24.989942Z",
     "iopub.status.busy": "2023-11-26T13:34:24.989204Z",
     "iopub.status.idle": "2023-11-26T13:34:57.258515Z",
     "shell.execute_reply": "2023-11-26T13:34:57.256662Z"
    },
    "papermill": {
     "duration": 32.306196,
     "end_time": "2023-11-26T13:34:57.261888",
     "exception": false,
     "start_time": "2023-11-26T13:34:24.955692",
     "status": "completed"
    },
    "tags": []
   },
   "outputs": [],
   "source": [
    "for (test, revealed_targets, client, historical_weather,\n",
    "        forecast_weather, electricity_prices, gas_prices, sample_prediction) in iter_test:\n",
    "    \n",
    "    test = test.rename(columns={\"prediction_datetime\": \"datetime\"})\n",
    "    \n",
    "    df_test           = pl.from_pandas(test[data_cols[1:]], schema_overrides=schema_data)\n",
    "    df_client         = pl.from_pandas(client[client_cols], schema_overrides=schema_client)\n",
    "    df_gas            = pl.from_pandas(gas_prices[gas_cols], schema_overrides=schema_gas)\n",
    "    df_electricity    = pl.from_pandas(electricity_prices[electricity_cols], schema_overrides=schema_electricity)\n",
    "    df_new_forecast   = pl.from_pandas(forecast_weather[forecast_cols], schema_overrides=schema_forecast)\n",
    "    df_new_historical = pl.from_pandas(historical_weather[historical_cols], schema_overrides=schema_historical)\n",
    "    df_new_target     = pl.from_pandas(revealed_targets[target_cols], schema_overrides=schema_target)\n",
    "    \n",
    "    df_forecast       = pl.concat([df_forecast, df_new_forecast]).unique()\n",
    "    df_historical     = pl.concat([df_historical, df_new_historical]).unique()\n",
    "    df_target         = pl.concat([df_target, df_new_target]).unique()\n",
    "    \n",
    "    X_test = feature_eng(df_test, df_client, df_gas, df_electricity, df_forecast, df_historical, df_location, df_target)\n",
    "    X_test = to_pandas(X_test)\n",
    "    \n",
    "    test['target'] = model.predict(X_test).clip(0)\n",
    "    test['target_solar'] = model_solar.predict(X_test).clip(0)\n",
    "    test.loc[test['is_consumption']==0, \"target\"] = test.loc[test['is_consumption']==0, \"target_solar\"]    \n",
    "    \n",
    "    sample_prediction[\"target\"] = test['target']\n",
    "    \n",
    "    env.predict(sample_prediction)"
   ]
  },
  {
   "attachments": {},
   "cell_type": "markdown",
   "id": "9b26c802",
   "metadata": {},
   "source": [
    "# Hyperparameter Optimization"
   ]
  },
  {
   "cell_type": "code",
   "execution_count": null,
   "id": "f47842fd",
   "metadata": {
    "papermill": {
     "duration": 0.034561,
     "end_time": "2023-11-26T13:34:57.330213",
     "exception": false,
     "start_time": "2023-11-26T13:34:57.295652",
     "status": "completed"
    },
    "tags": []
   },
   "outputs": [],
   "source": [
    "best_params = {\n",
    "    'n_iter'           : 700,\n",
    "    'verbose'          : -1,\n",
    "    'objective'        : 'l2',\n",
    "    'learning_rate'    : 0.05689066836106983,\n",
    "    'colsample_bytree' : 0.8915976762048253,\n",
    "    'colsample_bynode' : 0.5942203285139224,\n",
    "    'lambda_l1'        : 3.6277555139102864,\n",
    "    'lambda_l2'        : 1.6591278779517808,\n",
    "    'min_data_in_leaf' : 186,\n",
    "    'max_depth'        : 9,\n",
    "    'max_bin'          : 813,\n",
    "} # val score is 62.24 for the last month\n",
    "\n",
    "best_params_solar = {\n",
    "    'n_iter'           : 500,\n",
    "    'verbose'          : -1,\n",
    "    'objective'        : 'l2',\n",
    "    'learning_rate'    : 0.05689066836106983,\n",
    "    'colsample_bytree' : 0.8915976762048253,\n",
    "    'colsample_bynode' : 0.5942203285139224,\n",
    "    'lambda_l1'        : 3.6277555139102864,\n",
    "    'lambda_l2'        : 1.6591278779517808,\n",
    "    'min_data_in_leaf' : 186,\n",
    "    'max_depth'        : 9,\n",
    "    'max_bin'          : 813,\n",
    "} # val score is 62.24 for the last month\n",
    "# study = optuna.create_study(direction='minimize', study_name='Regressor')\n",
    "# study.optimize(lgb_objective, n_trials=100, show_progress_bar=True)"
   ]
  }
 ],
 "metadata": {
  "kaggle": {
   "accelerator": "none",
   "dataSources": [
    {
     "databundleVersionId": 7056256,
     "sourceId": 57236,
     "sourceType": "competition"
    }
   ],
   "dockerImageVersionId": 30587,
   "isGpuEnabled": false,
   "isInternetEnabled": false,
   "language": "python",
   "sourceType": "notebook"
  },
  "kernelspec": {
   "display_name": "Python 3",
   "language": "python",
   "name": "python3"
  },
  "language_info": {
   "codemirror_mode": {
    "name": "ipython",
    "version": 3
   },
   "file_extension": ".py",
   "mimetype": "text/x-python",
   "name": "python",
   "nbconvert_exporter": "python",
   "pygments_lexer": "ipython3",
   "version": "3.8.10"
  },
  "papermill": {
   "default_parameters": {},
   "duration": 2078.030932,
   "end_time": "2023-11-26T13:34:58.798333",
   "environment_variables": {},
   "exception": null,
   "input_path": "__notebook__.ipynb",
   "output_path": "__notebook__.ipynb",
   "parameters": {},
   "start_time": "2023-11-26T13:00:20.767401",
   "version": "2.4.0"
  }
 },
 "nbformat": 4,
 "nbformat_minor": 5
}
