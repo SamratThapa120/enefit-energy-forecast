{
 "cells": [
  {
   "cell_type": "code",
   "execution_count": null,
   "id": "22524d42",
   "metadata": {
    "_cell_guid": "b1076dfc-b9ad-4769-8c92-a6c4dae69d19",
    "_kg_hide-input": true,
    "_uuid": "8f2839f25d086af736a60e9eeb907d3b93b6e0e5",
    "execution": {
     "iopub.execute_input": "2023-11-26T13:00:24.551710Z",
     "iopub.status.busy": "2023-11-26T13:00:24.551224Z",
     "iopub.status.idle": "2023-11-26T13:00:30.410743Z",
     "shell.execute_reply": "2023-11-26T13:00:30.409705Z"
    },
    "papermill": {
     "duration": 5.873903,
     "end_time": "2023-11-26T13:00:30.413578",
     "exception": false,
     "start_time": "2023-11-26T13:00:24.539675",
     "status": "completed"
    },
    "tags": []
   },
   "outputs": [],
   "source": [
    "import os\n",
    "import gc\n",
    "import pickle\n",
    "\n",
    "import numpy as np\n",
    "import pandas as pd\n",
    "import polars as pl\n",
    "import matplotlib.pyplot as plt\n",
    "import plotly.express as px\n",
    "from sklearn.model_selection import cross_val_score, cross_validate\n",
    "from sklearn.metrics import mean_absolute_error\n",
    "from sklearn.compose import TransformedTargetRegressor\n",
    "from sklearn.ensemble import VotingRegressor\n",
    "import numpy as np\n",
    "import datetime\n",
    "import lightgbm as lgb\n",
    "\n",
    "import optuna\n",
    "from feature_engineer import *"
   ]
  },
  {
   "cell_type": "code",
   "execution_count": null,
   "id": "5891c957",
   "metadata": {
    "_kg_hide-input": false,
    "execution": {
     "iopub.execute_input": "2023-11-26T13:00:43.718878Z",
     "iopub.status.busy": "2023-11-26T13:00:43.717975Z",
     "iopub.status.idle": "2023-11-26T13:00:43.727727Z",
     "shell.execute_reply": "2023-11-26T13:00:43.726520Z"
    },
    "papermill": {
     "duration": 0.042361,
     "end_time": "2023-11-26T13:00:43.730393",
     "exception": false,
     "start_time": "2023-11-26T13:00:43.688032",
     "status": "completed"
    },
    "tags": []
   },
   "outputs": [],
   "source": [
    "root = \"../../dataset\"\n",
    "save_path = None\n",
    "load_path = None"
   ]
  },
  {
   "cell_type": "code",
   "execution_count": null,
   "id": "14ee9f7a",
   "metadata": {
    "_kg_hide-input": false,
    "execution": {
     "iopub.execute_input": "2023-11-26T13:00:43.788810Z",
     "iopub.status.busy": "2023-11-26T13:00:43.787989Z",
     "iopub.status.idle": "2023-11-26T13:00:57.711884Z",
     "shell.execute_reply": "2023-11-26T13:00:57.710567Z"
    },
    "papermill": {
     "duration": 13.956402,
     "end_time": "2023-11-26T13:00:57.714896",
     "exception": false,
     "start_time": "2023-11-26T13:00:43.758494",
     "status": "completed"
    },
    "tags": []
   },
   "outputs": [],
   "source": [
    "df_data        = pl.read_csv(os.path.join(root, \"train.csv\"), try_parse_dates=True)\n",
    "df_client      = pl.read_csv(os.path.join(root, \"client.csv\"), try_parse_dates=True)\n",
    "df_gas         = pl.read_csv(os.path.join(root, \"gas_prices.csv\"), try_parse_dates=True)\n",
    "df_electricity = pl.read_csv(os.path.join(root, \"electricity_prices.csv\"), try_parse_dates=True)\n",
    "df_forecast    = pl.read_csv(os.path.join(root, \"forecast_weather.csv\"), try_parse_dates=True)\n",
    "df_historical  = pl.read_csv(os.path.join(root, \"historical_weather.csv\"), try_parse_dates=True)\n",
    "df_location    = pl.read_csv(os.path.join(root, \"weather_station_to_county_mapping.csv\"), try_parse_dates=True)"
   ]
  },
  {
   "cell_type": "code",
   "execution_count": null,
   "id": "e92a3b11",
   "metadata": {},
   "outputs": [],
   "source": [
    "name_to_location_map = {\n",
    "    0: [59.37564599072755, 24.76634160396904],\n",
    "    1: [58.933990104765385, 22.592611630193417],\n",
    "    2: [59.260027110999104, 27.424623084957503],\n",
    "    3: [58.93141428698745, 25.61492605120901],\n",
    "    4: [58.75129581441412, 26.396217935199086],\n",
    "    5: [59.351855094338006, 26.358582291361408],\n",
    "    6: [58.971844103963996, 23.865264807862204],\n",
    "    7: [58.529730512924466, 24.390625023202976],\n",
    "    8: [58.115278626639046, 27.210355429168683],\n",
    "    9: [59.001783512075306, 24.800546663034282],\n",
    "    10: [58.40187275691764, 22.473957776666857],\n",
    "    11: [58.38464096871995, 26.742185601931066],\n",
    "    13: [57.910997459035016, 26.161956297267043],\n",
    "    14: [58.362156921790586, 25.589748513576247],\n",
    "    15: [57.84391746680313, 27.00999868536037],\n",
    "}\n",
    "country_names = []\n",
    "separation = []\n",
    "for lat, long in zip(df_location[\"latitude\"],df_location[\"longitude\"]):\n",
    "    distances = {k:np.sqrt(((lat-v[0])**2)+((long-v[1])**2))*111 for k,v in name_to_location_map.items()}\n",
    "    key = min(distances,key=lambda x: distances[x])\n",
    "    if distances[key]<50:\n",
    "        country_names.append(key)\n",
    "        separation.append(distances[key])\n",
    "    else:\n",
    "        country_names.append(12)\n",
    "        separation.append(50)   \n",
    "df_location = df_location.with_columns(pl.Series(name=\"county\", values=country_names))"
   ]
  },
  {
   "attachments": {},
   "cell_type": "markdown",
   "id": "f1965be5",
   "metadata": {},
   "source": [
    "# Feature Engineering"
   ]
  },
  {
   "cell_type": "code",
   "execution_count": null,
   "id": "6d34509b",
   "metadata": {},
   "outputs": [],
   "source": [
    "# immediate changes\n",
    "df_data = df_data.with_columns(pl.col(\"datetime\").dt.date().alias(\"date\").cast(pl.Date))\n",
    "df_forecast = df_forecast.with_columns(pl.col(\"forecast_datetime\").alias(\"forecast_datetime\").cast(pl.Datetime))\n",
    "df_forecast = df_forecast.with_columns(pl.col(\"latitude\").round(1).cast(str),pl.col(\"longitude\").round(1).cast(str))\n",
    "df_location = df_location.with_columns(pl.col(\"latitude\").round(1).cast(str),pl.col(\"longitude\").round(1).cast(str))"
   ]
  },
  {
   "cell_type": "code",
   "execution_count": null,
   "id": "929cdb27",
   "metadata": {},
   "outputs": [],
   "source": [
    "df_data = df_data.filter(pl.col(\"target\")!=None)\n",
    "df_data = add_electricity_prices(df_data,df_electricity)\n",
    "df_data = add_gas_price(df_data,df_gas)\n",
    "df_data =  add_client(df_data,df_client)\n",
    "df_data = add_latest_weather(df_data,df_forecast,df_location)\n",
    "df_data = extend_month_weekday(df_data)\n",
    "df_data = previous_value(df_data)\n",
    "df_data = df_data.sort(by=\"datetime\")\n",
    "df_data = df_data.filter(pl.col(\"datetime\")>=datetime.datetime(2021, 9, 8, 0, 0))"
   ]
  },
  {
   "attachments": {},
   "cell_type": "markdown",
   "id": "a98812d0",
   "metadata": {
    "papermill": {
     "duration": 0.02912,
     "end_time": "2023-11-26T13:01:16.377350",
     "exception": false,
     "start_time": "2023-11-26T13:01:16.348230",
     "status": "completed"
    },
    "tags": []
   },
   "source": [
    "### Training"
   ]
  },
  {
   "cell_type": "code",
   "execution_count": null,
   "id": "ef8a8c06",
   "metadata": {},
   "outputs": [],
   "source": [
    "from sklearn.metrics import mean_absolute_error,mean_squared_error,r2_score"
   ]
  },
  {
   "cell_type": "code",
   "execution_count": null,
   "metadata": {},
   "outputs": [],
   "source": [
    "class TimeFold:\n",
    "    def __init__(self, train_range=28, test_range=14,mincount=5000):\n",
    "        self.train_range = train_range\n",
    "        self.test_range = test_range\n",
    "        self.mincount=mincount\n",
    "    def split(self, X):\n",
    "        end = len(X) - 1\n",
    "        while end >= 0:\n",
    "            test_indices = np.where((X <= X[end]) & (X > (X[end] - datetime.timedelta(days=self.test_range))))[0]\n",
    "            train_indices = np.where((X <= (X[end] - datetime.timedelta(days=self.test_range))) & (X > (X[end] - datetime.timedelta(days=self.train_range + self.test_range))))[0]\n",
    "            end = train_indices[0] - 1 if len(train_indices) > 0 else -1\n",
    "            if len(test_indices)>self.mincount and len(train_indices)>self.mincount:\n",
    "                yield train_indices, test_indices"
   ]
  },
  {
   "cell_type": "code",
   "execution_count": null,
   "id": "a704e8c3",
   "metadata": {},
   "outputs": [],
   "source": [
    "def get_metrics(gt,pred):\n",
    "    return {\n",
    "        \"length\": len(gt),\n",
    "        \"mae\": mean_absolute_error(gt,pred),\n",
    "        \"rmse\": np.sqrt(mean_squared_error(gt,pred)),\n",
    "        \"r2_score\": r2_score(gt,pred),\n",
    "    }"
   ]
  },
  {
   "cell_type": "code",
   "execution_count": null,
   "id": "25f428a2",
   "metadata": {
    "execution": {
     "iopub.execute_input": "2023-11-26T13:01:16.438153Z",
     "iopub.status.busy": "2023-11-26T13:01:16.437697Z",
     "iopub.status.idle": "2023-11-26T13:34:24.746399Z",
     "shell.execute_reply": "2023-11-26T13:34:24.744674Z"
    },
    "papermill": {
     "duration": 1988.343576,
     "end_time": "2023-11-26T13:34:24.750266",
     "exception": false,
     "start_time": "2023-11-26T13:01:16.406690",
     "status": "completed"
    },
    "tags": []
   },
   "outputs": [],
   "source": [
    "drop_cols=[\"target\",\"datetime\",\"row_id\",\"data_block_id\",\"prediction_unit_id\",\"date\"]\n",
    "target_col = \"target\"\n",
    "best_params = {\n",
    "    'n_iter'           : 700,\n",
    "    'verbose'          : 1,\n",
    "    'objective'        : 'l2',\n",
    "    'learning_rate'    : 0.05689066836106983,\n",
    "    'colsample_bytree' : 0.8915976762048253,\n",
    "    'colsample_bynode' : 0.5942203285139224,\n",
    "    'lambda_l1'        : 3.6277555139102864,\n",
    "    'lambda_l2'        : 1.6591278779517808,\n",
    "    'min_data_in_leaf' : 186,\n",
    "    'max_depth'        : 9,\n",
    "    'max_bin'          : 813,\n",
    "} \n",
    "\n",
    "folds = TimeFold(train_range=28,test_range=14)\n",
    "train_res = []\n",
    "test_res = []\n",
    "for i,(train,test) in enumerate(folds.split(df_data[\"datetime\"].to_pandas())):\n",
    "    train = df_data[train]\n",
    "    test = df_data[test]\n",
    "    model = lgb.LGBMRegressor(**best_params, random_state=100) \n",
    "    model.fit(\n",
    "        X=train.drop(drop_cols),\n",
    "        y=train[target_col],\n",
    "        eval_set=[(test.drop(drop_cols).to_numpy(), test[target_col].to_numpy())],\n",
    "        eval_metric='mae',\n",
    "        callbacks=[\n",
    "            lgb.early_stopping(stopping_rounds=50, verbose=True),\n",
    "            lgb.log_evaluation(50),\n",
    "        ],\n",
    "    )\n",
    "    predictions = model.predict(test.drop(drop_cols))\n",
    "    test_res.append([predictions,test[target_col].to_numpy()])\n",
    "    test_met = get_metrics(test[target_col],predictions)\n",
    "    predictions = model.predict(train.drop(drop_cols))\n",
    "    train_res.append([predictions,train[target_col].to_numpy()])\n",
    "    train_met = get_metrics(train[target_col],predictions)\n",
    "    print(f\"FOLD {i+1} || train_mae: {train_met} valid_mae: {test_met} ||\")"
   ]
  },
  {
   "cell_type": "code",
   "execution_count": null,
   "id": "f7905118",
   "metadata": {},
   "outputs": [],
   "source": [
    "test_met = get_metrics(np.concatenate([x[1] for x in test_res]),np.concatenate([x[0] for x in test_res]))\n",
    "print(f\"Overall || valid_mae: {test_met} ||\")"
   ]
  },
  {
   "cell_type": "code",
   "execution_count": null,
   "id": "705cf4b5",
   "metadata": {},
   "outputs": [],
   "source": [
    "gts = np.concatenate([x[1] for x in test_res])\n",
    "preds = np.concatenate([x[0] for x in test_res])\n",
    "mask = np.random.rand(len(gts))<0.2\n",
    "plt.scatter(gts[mask],preds[mask],s=0.1)\n",
    "plt.xlabel('Ground Truth')\n",
    "plt.ylabel('Prediction')\n",
    "plt.title('Feature Importances')\n",
    "plt.show()\n",
    "# Get feature importances\n",
    "feature_importances = model.feature_importances_\n",
    "argsort = np.argsort(model.feature_importances_)[::-1]\n",
    "feature_importances = [feature_importances[x] for x in argsort]\n",
    "columns = test.drop(drop_cols).columns\n",
    "# Plotting the feature importances\n",
    "plt.figure(figsize=(10, 6))\n",
    "plt.bar(range(len(feature_importances)), feature_importances)\n",
    "plt.xlabel('Features')\n",
    "plt.ylabel('Importance')\n",
    "plt.title('Feature Importances')\n",
    "plt.xticks(ticks=np.arange(len(feature_importances)), labels=[columns[x] for x in argsort],rotation=90)\n",
    "plt.show()"
   ]
  },
  {
   "cell_type": "code",
   "execution_count": null,
   "id": "9335f9b7",
   "metadata": {},
   "outputs": [],
   "source": [
    "if save_path is not None:\n",
    "    with open(save_path, \"wb\") as f:\n",
    "        pickle.dump(model, f)"
   ]
  },
  {
   "attachments": {},
   "cell_type": "markdown",
   "id": "e9a97f73",
   "metadata": {
    "papermill": {
     "duration": 0.030389,
     "end_time": "2023-11-26T13:34:24.812015",
     "exception": false,
     "start_time": "2023-11-26T13:34:24.781626",
     "status": "completed"
    },
    "tags": []
   },
   "source": [
    "### Prediction"
   ]
  },
  {
   "cell_type": "code",
   "execution_count": null,
   "id": "e81bb77b",
   "metadata": {
    "execution": {
     "iopub.execute_input": "2023-11-26T13:34:24.875947Z",
     "iopub.status.busy": "2023-11-26T13:34:24.875464Z",
     "iopub.status.idle": "2023-11-26T13:34:24.921226Z",
     "shell.execute_reply": "2023-11-26T13:34:24.919728Z"
    },
    "papermill": {
     "duration": 0.081685,
     "end_time": "2023-11-26T13:34:24.924299",
     "exception": false,
     "start_time": "2023-11-26T13:34:24.842614",
     "status": "completed"
    },
    "tags": []
   },
   "outputs": [],
   "source": [
    "import enefit\n",
    "\n",
    "env = enefit.make_env()\n",
    "iter_test = env.iter_test()"
   ]
  },
  {
   "cell_type": "code",
   "execution_count": null,
   "id": "fb1f68e7",
   "metadata": {
    "execution": {
     "iopub.execute_input": "2023-11-26T13:34:24.989942Z",
     "iopub.status.busy": "2023-11-26T13:34:24.989204Z",
     "iopub.status.idle": "2023-11-26T13:34:57.258515Z",
     "shell.execute_reply": "2023-11-26T13:34:57.256662Z"
    },
    "papermill": {
     "duration": 32.306196,
     "end_time": "2023-11-26T13:34:57.261888",
     "exception": false,
     "start_time": "2023-11-26T13:34:24.955692",
     "status": "completed"
    },
    "tags": []
   },
   "outputs": [],
   "source": [
    "for (test, revealed_targets, client, historical_weather,\n",
    "        forecast_weather, electricity_prices, gas_prices, sample_prediction) in iter_test:\n",
    "    \n",
    "    test = test.rename(columns={\"prediction_datetime\": \"datetime\"})\n",
    "    \n",
    "    df_test           = pl.from_pandas(test[data_cols[1:]], schema_overrides=schema_data)\n",
    "    df_client         = pl.from_pandas(client[client_cols], schema_overrides=schema_client)\n",
    "    df_gas            = pl.from_pandas(gas_prices[gas_cols], schema_overrides=schema_gas)\n",
    "    df_electricity    = pl.from_pandas(electricity_prices[electricity_cols], schema_overrides=schema_electricity)\n",
    "    df_new_forecast   = pl.from_pandas(forecast_weather[forecast_cols], schema_overrides=schema_forecast)\n",
    "    df_new_historical = pl.from_pandas(historical_weather[historical_cols], schema_overrides=schema_historical)\n",
    "    df_new_target     = pl.from_pandas(revealed_targets[target_cols], schema_overrides=schema_target)\n",
    "    \n",
    "    df_forecast       = pl.concat([df_forecast, df_new_forecast]).unique()\n",
    "    df_historical     = pl.concat([df_historical, df_new_historical]).unique()\n",
    "    df_target         = pl.concat([df_target, df_new_target]).unique()\n",
    "    \n",
    "    X_test = feature_eng(df_test, df_client, df_gas, df_electricity, df_forecast, df_historical, df_location, df_target)\n",
    "    X_test = to_pandas(X_test)\n",
    "    \n",
    "    test['target'] = model.predict(X_test).clip(0)\n",
    "    test['target_solar'] = model_solar.predict(X_test).clip(0)\n",
    "    test.loc[test['is_consumption']==0, \"target\"] = test.loc[test['is_consumption']==0, \"target_solar\"]    \n",
    "    \n",
    "    sample_prediction[\"target\"] = test['target']\n",
    "    \n",
    "    env.predict(sample_prediction)"
   ]
  },
  {
   "attachments": {},
   "cell_type": "markdown",
   "id": "9b26c802",
   "metadata": {},
   "source": [
    "# Hyperparameter Optimization"
   ]
  },
  {
   "cell_type": "code",
   "execution_count": null,
   "id": "f47842fd",
   "metadata": {
    "papermill": {
     "duration": 0.034561,
     "end_time": "2023-11-26T13:34:57.330213",
     "exception": false,
     "start_time": "2023-11-26T13:34:57.295652",
     "status": "completed"
    },
    "tags": []
   },
   "outputs": [],
   "source": [
    "best_params = {\n",
    "    'n_iter'           : 700,\n",
    "    'verbose'          : -1,\n",
    "    'objective'        : 'l2',\n",
    "    'learning_rate'    : 0.05689066836106983,\n",
    "    'colsample_bytree' : 0.8915976762048253,\n",
    "    'colsample_bynode' : 0.5942203285139224,\n",
    "    'lambda_l1'        : 3.6277555139102864,\n",
    "    'lambda_l2'        : 1.6591278779517808,\n",
    "    'min_data_in_leaf' : 186,\n",
    "    'max_depth'        : 9,\n",
    "    'max_bin'          : 813,\n",
    "} # val score is 62.24 for the last month\n",
    "\n",
    "best_params_solar = {\n",
    "    'n_iter'           : 500,\n",
    "    'verbose'          : -1,\n",
    "    'objective'        : 'l2',\n",
    "    'learning_rate'    : 0.05689066836106983,\n",
    "    'colsample_bytree' : 0.8915976762048253,\n",
    "    'colsample_bynode' : 0.5942203285139224,\n",
    "    'lambda_l1'        : 3.6277555139102864,\n",
    "    'lambda_l2'        : 1.6591278779517808,\n",
    "    'min_data_in_leaf' : 186,\n",
    "    'max_depth'        : 9,\n",
    "    'max_bin'          : 813,\n",
    "} # val score is 62.24 for the last month\n",
    "# study = optuna.create_study(direction='minimize', study_name='Regressor')\n",
    "# study.optimize(lgb_objective, n_trials=100, show_progress_bar=True)"
   ]
  }
 ],
 "metadata": {
  "kaggle": {
   "accelerator": "none",
   "dataSources": [
    {
     "databundleVersionId": 7056256,
     "sourceId": 57236,
     "sourceType": "competition"
    }
   ],
   "dockerImageVersionId": 30587,
   "isGpuEnabled": false,
   "isInternetEnabled": false,
   "language": "python",
   "sourceType": "notebook"
  },
  "kernelspec": {
   "display_name": "Python 3",
   "language": "python",
   "name": "python3"
  },
  "language_info": {
   "codemirror_mode": {
    "name": "ipython",
    "version": 3
   },
   "file_extension": ".py",
   "mimetype": "text/x-python",
   "name": "python",
   "nbconvert_exporter": "python",
   "pygments_lexer": "ipython3",
   "version": "3.8.10"
  },
  "papermill": {
   "default_parameters": {},
   "duration": 2078.030932,
   "end_time": "2023-11-26T13:34:58.798333",
   "environment_variables": {},
   "exception": null,
   "input_path": "__notebook__.ipynb",
   "output_path": "__notebook__.ipynb",
   "parameters": {},
   "start_time": "2023-11-26T13:00:20.767401",
   "version": "2.4.0"
  }
 },
 "nbformat": 4,
 "nbformat_minor": 5
}
